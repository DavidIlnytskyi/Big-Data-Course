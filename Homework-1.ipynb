{
 "cells": [
  {
   "cell_type": "code",
   "execution_count": 0,
   "metadata": {
    "application/vnd.databricks.v1+cell": {
     "cellMetadata": {
      "byteLimit": 2048000,
      "rowLimit": 10000
     },
     "inputWidgets": {},
     "nuid": "9a0516c4-22fe-4f37-9376-aa24408a83be",
     "showTitle": false,
     "tableResultSettingsMap": {},
     "title": ""
    }
   },
   "outputs": [],
   "source": [
    "print(\"Hello world!\")"
   ]
  },
  {
   "cell_type": "code",
   "execution_count": 0,
   "metadata": {
    "application/vnd.databricks.v1+cell": {
     "cellMetadata": {
      "byteLimit": 2048000,
      "rowLimit": 10000
     },
     "inputWidgets": {},
     "nuid": "ab0d376d-1e02-477e-9967-402e8e0eb395",
     "showTitle": false,
     "tableResultSettingsMap": {},
     "title": ""
    }
   },
   "outputs": [],
   "source": [
    "tpch_path = '/dbfs/databricks-datasets/tpch'"
   ]
  },
  {
   "cell_type": "code",
   "execution_count": 0,
   "metadata": {
    "application/vnd.databricks.v1+cell": {
     "cellMetadata": {
      "byteLimit": 2048000,
      "rowLimit": 10000
     },
     "inputWidgets": {},
     "nuid": "a9e230f8-e452-4719-ab11-50e2df7ad038",
     "showTitle": false,
     "tableResultSettingsMap": {},
     "title": ""
    }
   },
   "outputs": [],
   "source": [
    "with open(tpch_path + \"/README.md\" , 'r') as f:\n",
    "     content = f.read()\n",
    "displayHTML(f\"<pre>{content}</pre>\")"
   ]
  },
  {
   "cell_type": "code",
   "execution_count": 0,
   "metadata": {
    "application/vnd.databricks.v1+cell": {
     "cellMetadata": {
      "byteLimit": 2048000,
      "rowLimit": 10000
     },
     "inputWidgets": {},
     "nuid": "7f3efbbe-190b-4f2d-bd94-ad0f9ada0ad9",
     "showTitle": false,
     "tableResultSettingsMap": {},
     "title": ""
    }
   },
   "outputs": [],
   "source": [
    "table_names = [table.name for table in spark.catalog.listTables(\"samples.tpch\")]"
   ]
  },
  {
   "cell_type": "code",
   "execution_count": 0,
   "metadata": {
    "application/vnd.databricks.v1+cell": {
     "cellMetadata": {
      "byteLimit": 2048000,
      "rowLimit": 10000
     },
     "inputWidgets": {},
     "nuid": "c801cc3b-17cf-49e6-b01b-dd3f6f2b03f9",
     "showTitle": false,
     "tableResultSettingsMap": {},
     "title": ""
    }
   },
   "outputs": [],
   "source": [
    "for table_name in table_names:\n",
    "    print(\"Table name: \" + table_name)\n",
    "    spark.sql(f\"DESCRIBE samples.tpch.{table_name}\").show()"
   ]
  },
  {
   "cell_type": "code",
   "execution_count": 0,
   "metadata": {
    "application/vnd.databricks.v1+cell": {
     "cellMetadata": {
      "byteLimit": 2048000,
      "rowLimit": 10000
     },
     "inputWidgets": {},
     "nuid": "fa173c5b-0d68-48c6-b5ec-128db6e657e3",
     "showTitle": false,
     "tableResultSettingsMap": {},
     "title": ""
    }
   },
   "outputs": [],
   "source": [
    "from dlt import *\n",
    "from pyspark.sql.functions import *\n",
    "from pyspark.sql.types import *\n",
    "\n",
    "# Pipeline configuration - creates catalog and schemas automatically\n",
    "@dlt.create_table(\n",
    "    comment=\"Raw customer data in bronze layer\",\n",
    "    table_properties={\n",
    "        \"quality\": \"bronze\",\n",
    "        \"pipelines.autoOptimize.managed\": \"true\"\n",
    "    }\n",
    ")\n",
    "def bronze_customer():\n",
    "    \"\"\"\n",
    "    Bronze layer: Raw data copy from samples.tpch.customer\n",
    "    \"\"\"\n",
    "    return (\n",
    "        spark.table(\"samples.tpch.customer\")\n",
    "        .select(\n",
    "            col(\"c_custkey\"),\n",
    "            col(\"c_name\"),\n",
    "            col(\"c_address\"),\n",
    "            col(\"c_nationkey\"),\n",
    "            col(\"c_phone\"),\n",
    "            col(\"c_acctbal\"),\n",
    "            col(\"c_mktsegment\"),\n",
    "            col(\"c_comment\"),\n",
    "            current_timestamp().alias(\"_load_timestamp\"),\n",
    "            lit(\"samples.tpch.customer\").alias(\"_source\")\n",
    "        )\n",
    "    )"
   ]
  }
 ],
 "metadata": {
  "application/vnd.databricks.v1+notebook": {
   "computePreferences": null,
   "dashboards": [],
   "environmentMetadata": {
    "base_environment": "",
    "environment_version": "3"
   },
   "inputWidgetPreferences": null,
   "language": "python",
   "notebookMetadata": {
    "pythonIndentUnit": 4
   },
   "notebookName": "Homework-1",
   "widgets": {}
  },
  "language_info": {
   "name": "python"
  }
 },
 "nbformat": 4,
 "nbformat_minor": 0
}
