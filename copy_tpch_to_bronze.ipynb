{
 "cells": [
  {
   "cell_type": "code",
   "execution_count": 0,
   "metadata": {
    "application/vnd.databricks.v1+cell": {
     "cellMetadata": {
      "byteLimit": 2048000,
      "implicitDf": true,
      "rowLimit": 10000
     },
     "inputWidgets": {},
     "nuid": "bb6d5b50-24b3-404f-9a00-e5b04e96f427",
     "showTitle": false,
     "tableResultSettingsMap": {},
     "title": ""
    }
   },
   "outputs": [],
   "source": [
    "%sql\n",
    "USE CATALOG samples;\n",
    "USE SCHEMA tpch;\n",
    "\n",
    "USE CATALOG catalog_cp;\n",
    "CREATE SCHEMA IF NOT EXISTS bronze;\n",
    "\n",
    "CREATE OR REPLACE TABLE catalog_cp.bronze.customer AS SELECT * FROM samples.tpch.customer;\n",
    "CREATE OR REPLACE TABLE catalog_cp.bronze.orders AS SELECT * FROM samples.tpch.orders;\n",
    "CREATE OR REPLACE TABLE catalog_cp.bronze.lineitem AS SELECT * FROM samples.tpch.lineitem;\n",
    "CREATE OR REPLACE TABLE catalog_cp.bronze.nation AS SELECT * FROM samples.tpch.nation;\n",
    "CREATE OR REPLACE TABLE catalog_cp.bronze.part AS SELECT * FROM samples.tpch.part;\n",
    "CREATE OR REPLACE TABLE catalog_cp.bronze.partsupp AS SELECT * FROM samples.tpch.partsupp;\n",
    "CREATE OR REPLACE TABLE catalog_cp.bronze.supplier AS SELECT * FROM samples.tpch.supplier;\n",
    "CREATE OR REPLACE TABLE catalog_cp.bronze.region AS SELECT * FROM samples.tpch.region;\n",
    "\n"
   ]
  },
  {
   "cell_type": "code",
   "execution_count": 0,
   "metadata": {
    "application/vnd.databricks.v1+cell": {
     "cellMetadata": {
      "byteLimit": 2048000,
      "rowLimit": 10000
     },
     "inputWidgets": {},
     "nuid": "e9482fcb-9495-49e9-9da2-bf3fb4336f59",
     "showTitle": false,
     "tableResultSettingsMap": {},
     "title": ""
    }
   },
   "outputs": [],
   "source": [
    "tables = ['customer', 'orders', 'lineitem', 'nation', 'part', 'partsupp', 'supplier', 'region']\n",
    "\n",
    "source_catalog = \"samples\"\n",
    "source_schema = \"tpch\"\n",
    "target_catalog = \"catalog_cp\"\n",
    "target_schema = \"bronze\"\n",
    "\n",
    "union_queries = []\n",
    "for table in tables:\n",
    "    union_queries.append(f\"\"\"\n",
    "        SELECT \n",
    "            '{table}' AS table_name,\n",
    "            (SELECT COUNT(*) FROM {source_catalog}.{source_schema}.{table}) AS source_count,\n",
    "            (SELECT COUNT(*) FROM {target_catalog}.{target_schema}.{table}) AS target_count\n",
    "    \"\"\")\n",
    "\n",
    "final_query = \" UNION ALL \".join(union_queries)\n",
    "\n",
    "validation_df = spark.sql(final_query).toPandas()\n",
    "\n",
    "validation_df['validation_result'] = validation_df.apply(\n",
    "    lambda row: 'MATCH' if row.source_count == row.target_count else 'MISMATCH', axis=1\n",
    ")\n",
    "\n",
    "display(validation_df)\n"
   ]
  },
  {
   "cell_type": "code",
   "execution_count": 0,
   "metadata": {
    "application/vnd.databricks.v1+cell": {
     "cellMetadata": {},
     "inputWidgets": {},
     "nuid": "e14dd3dd-4f7b-4dec-a387-33a783e5fede",
     "showTitle": false,
     "tableResultSettingsMap": {},
     "title": ""
    }
   },
   "outputs": [],
   "source": []
  }
 ],
 "metadata": {
  "application/vnd.databricks.v1+notebook": {
   "computePreferences": null,
   "dashboards": [],
   "environmentMetadata": {
    "base_environment": "",
    "environment_version": "3"
   },
   "inputWidgetPreferences": null,
   "language": "python",
   "notebookMetadata": {
    "mostRecentlyExecutedCommandWithImplicitDF": {
     "commandId": 8092482964556366,
     "dataframes": [
      "_sqldf"
     ]
    },
    "pythonIndentUnit": 4
   },
   "notebookName": "copy_tpch_to_bronze",
   "widgets": {}
  },
  "language_info": {
   "name": "python"
  }
 },
 "nbformat": 4,
 "nbformat_minor": 0
}
