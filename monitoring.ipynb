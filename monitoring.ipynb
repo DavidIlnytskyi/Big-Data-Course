{
 "cells": [
  {
   "cell_type": "code",
   "execution_count": 0,
   "metadata": {
    "application/vnd.databricks.v1+cell": {
     "cellMetadata": {
      "byteLimit": 2048000,
      "implicitDf": true,
      "rowLimit": 10000
     },
     "inputWidgets": {},
     "nuid": "1fc01afd-7f17-4545-ae97-295234fe54af",
     "showTitle": false,
     "tableResultSettingsMap": {},
     "title": ""
    }
   },
   "outputs": [],
   "source": [
    "%sql\n",
    "USE CATALOG catalog_cp;\n",
    "\n",
    "CREATE TABLE IF NOT EXISTS silver.monitoring (\n",
    "    table_name STRING,\n",
    "    metric STRING,\n",
    "    value BIGINT,\n",
    "    check_date TIMESTAMP,\n",
    "    status STRING\n",
    ") USING DELTA;\n"
   ]
  },
  {
   "cell_type": "code",
   "execution_count": 0,
   "metadata": {
    "application/vnd.databricks.v1+cell": {
     "cellMetadata": {
      "byteLimit": 2048000,
      "rowLimit": 10000
     },
     "inputWidgets": {},
     "nuid": "2698dbd0-3d17-4878-addc-bd096272d1ce",
     "showTitle": false,
     "tableResultSettingsMap": {},
     "title": ""
    }
   },
   "outputs": [],
   "source": [
    "from pyspark.sql.functions import col\n",
    "from pyspark.sql import Row\n",
    "from datetime import datetime\n",
    "\n",
    "# List of silver tables\n",
    "tables = [\n",
    "    \"region\", \"nation\", \"part\", \"supplier\", \"partsupp\", \"customer\", \"orders\", \"lineitem\"\n",
    "]\n",
    "\n",
    "monitoring_rows = []\n",
    "\n",
    "check_date = datetime.now()\n",
    "\n",
    "for table in tables:\n",
    "    df = spark.table(f\"catalog_cp.silver.{table}\")\n",
    "    row_count = df.count()\n",
    "    \n",
    "    null_counts = {c: df.filter(col(c).isNull()).count() for c in df.columns}\n",
    "    columns_with_nulls = [k for k, v in null_counts.items() if v > 0]\n",
    "    \n",
    "    status = \"OK\" if len(columns_with_nulls) == 0 else \"WARN\"\n",
    "\n",
    "    monitoring_rows.append(Row(\n",
    "        table_name=table,\n",
    "        metric=\"row_count\",\n",
    "        value=row_count,\n",
    "        check_date=check_date,\n",
    "        status=status\n",
    "    ))\n",
    "    \n",
    "    for col_name in columns_with_nulls:\n",
    "        monitoring_rows.append(Row(\n",
    "            table_name=table,\n",
    "            metric=f\"null_count_{col_name}\",\n",
    "            value=null_counts[col_name],\n",
    "            check_date=check_date,\n",
    "            status=\"WARN\"\n",
    "        ))"
   ]
  },
  {
   "cell_type": "code",
   "execution_count": 0,
   "metadata": {
    "application/vnd.databricks.v1+cell": {
     "cellMetadata": {
      "byteLimit": 2048000,
      "rowLimit": 10000
     },
     "inputWidgets": {},
     "nuid": "7730b6df-6736-4d70-820a-f6198cd841a9",
     "showTitle": false,
     "tableResultSettingsMap": {},
     "title": ""
    }
   },
   "outputs": [],
   "source": [
    "from pyspark.sql.types import StructType, StructField, StringType, LongType, TimestampType\n",
    "schema = StructType([\n",
    "    StructField(\"table_name\", StringType(), False),\n",
    "    StructField(\"metric\", StringType(), False),\n",
    "    StructField(\"value\", LongType(), True),\n",
    "    StructField(\"check_date\", TimestampType(), False),\n",
    "    StructField(\"status\", StringType(), False)\n",
    "])\n",
    "\n",
    "monitoring_df = spark.createDataFrame(monitoring_rows, schema=schema)\n",
    "monitoring_df.write.format(\"delta\").mode(\"append\").saveAsTable(\"catalog_cp.silver.monitoring\")"
   ]
  }
 ],
 "metadata": {
  "application/vnd.databricks.v1+notebook": {
   "computePreferences": null,
   "dashboards": [],
   "environmentMetadata": {
    "base_environment": "",
    "environment_version": "3"
   },
   "inputWidgetPreferences": null,
   "language": "python",
   "notebookMetadata": {
    "mostRecentlyExecutedCommandWithImplicitDF": {
     "commandId": 6887864390177755,
     "dataframes": [
      "_sqldf"
     ]
    },
    "pythonIndentUnit": 4
   },
   "notebookName": "monitoring",
   "widgets": {}
  },
  "language_info": {
   "name": "python"
  }
 },
 "nbformat": 4,
 "nbformat_minor": 0
}
