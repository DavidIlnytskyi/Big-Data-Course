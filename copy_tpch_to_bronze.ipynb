{
 "cells": [
  {
   "cell_type": "code",
   "execution_count": 0,
   "metadata": {
    "application/vnd.databricks.v1+cell": {
     "cellMetadata": {
      "byteLimit": 2048000,
      "implicitDf": true,
      "rowLimit": 10000
     },
     "inputWidgets": {},
     "nuid": "bb6d5b50-24b3-404f-9a00-e5b04e96f427",
     "showTitle": false,
     "tableResultSettingsMap": {},
     "title": ""
    }
   },
   "outputs": [],
   "source": [
    "%sql\n",
    "USE CATALOG samples;\n",
    "USE SCHEMA tpch;\n",
    "\n",
    "USE CATALOG catalog_cp;\n",
    "CREATE SCHEMA IF NOT EXISTS bronze;\n",
    "\n",
    "CREATE OR REPLACE TABLE catalog_cp.bronze.customer AS SELECT * FROM samples.tpch.customer;\n",
    "CREATE OR REPLACE TABLE catalog_cp.bronze.orders AS SELECT * FROM samples.tpch.orders;\n",
    "CREATE OR REPLACE TABLE catalog_cp.bronze.lineitem AS SELECT * FROM samples.tpch.lineitem;\n",
    "CREATE OR REPLACE TABLE catalog_cp.bronze.nation AS SELECT * FROM samples.tpch.nation;\n",
    "CREATE OR REPLACE TABLE catalog_cp.bronze.part AS SELECT * FROM samples.tpch.part;\n",
    "CREATE OR REPLACE TABLE catalog_cp.bronze.partsupp AS SELECT * FROM samples.tpch.partsupp;\n",
    "CREATE OR REPLACE TABLE catalog_cp.bronze.supplier AS SELECT * FROM samples.tpch.supplier;\n",
    "CREATE OR REPLACE TABLE catalog_cp.bronze.region AS SELECT * FROM samples.tpch.region;\n",
    "SELECT COUNT(*) FROM catalog_cp.bronze.customer;\n",
    "\n"
   ]
  },
  {
   "cell_type": "code",
   "execution_count": 0,
   "metadata": {
    "application/vnd.databricks.v1+cell": {
     "cellMetadata": {
      "byteLimit": 2048000,
      "rowLimit": 10000
     },
     "inputWidgets": {},
     "nuid": "e9482fcb-9495-49e9-9da2-bf3fb4336f59",
     "showTitle": false,
     "tableResultSettingsMap": {},
     "title": ""
    }
   },
   "outputs": [],
   "source": [
    "from pyspark.sql.functions import sha2, concat_ws, col\n",
    "from pyspark.sql import SparkSession\n",
    "\n",
    "spark = SparkSession.builder.getOrCreate()\n",
    "\n",
    "tables = ['customer', 'orders', 'lineitem', 'nation', 'part', 'partsupp', 'supplier', 'region']\n",
    "\n",
    "source_catalog = \"samples\"\n",
    "source_schema = \"tpch\"\n",
    "target_catalog = \"catalog_cp\"\n",
    "target_schema = \"bronze\"\n",
    "\n",
    "def get_row_hashes_and_count(catalog, schema, table):\n",
    "    df = spark.table(f\"{catalog}.{schema}.{table}\")\n",
    "    row_hashes = df.select(sha2(concat_ws(\"||\", *df.columns), 256).alias(\"row_hash\"))\n",
    "    return row_hashes, df.count()\n",
    "\n",
    "all_match = True\n",
    "\n",
    "for table in tables:\n",
    "    source_hashes, source_count = get_row_hashes_and_count(source_catalog, source_schema, table)\n",
    "    target_hashes, target_count = get_row_hashes_and_count(target_catalog, target_schema, table)\n",
    "\n",
    "    row_count_match = (source_count == target_count)\n",
    "    missing_in_target = source_hashes.subtract(target_hashes)\n",
    "    missing_in_source = target_hashes.subtract(source_hashes)\n",
    "\n",
    "    hash_match = (missing_in_target.count() == 0 and missing_in_source.count() == 0)\n",
    "\n",
    "    if row_count_match and hash_match:\n",
    "        print(f\"Table '{table}': MATCH (rows: {source_count})\")\n",
    "    else:\n",
    "        print(f\"Table '{table}': MISMATCH\")\n",
    "        if not row_count_match:\n",
    "            print(f\"   - Row count differs: source={source_count}, target={target_count}\")\n",
    "        if missing_in_target.count() > 0:\n",
    "            print(f\"   - {missing_in_target.count()} rows missing in target\")\n",
    "        if missing_in_source.count() > 0:\n",
    "            print(f\"   - {missing_in_source.count()} rows missing in source\")\n",
    "        all_match = False\n",
    "\n",
    "if all_match:\n",
    "    print(\"\\nAll tables match.\")\n",
    "else:\n",
    "    print(\"\\n One or more tables do not match.\")\n"
   ]
  },
  {
   "cell_type": "code",
   "execution_count": 0,
   "metadata": {
    "application/vnd.databricks.v1+cell": {
     "cellMetadata": {},
     "inputWidgets": {},
     "nuid": "e14dd3dd-4f7b-4dec-a387-33a783e5fede",
     "showTitle": false,
     "tableResultSettingsMap": {},
     "title": ""
    }
   },
   "outputs": [],
   "source": []
  }
 ],
 "metadata": {
  "application/vnd.databricks.v1+notebook": {
   "computePreferences": null,
   "dashboards": [],
   "environmentMetadata": {
    "base_environment": "",
    "environment_version": "3"
   },
   "inputWidgetPreferences": null,
   "language": "python",
   "notebookMetadata": {
    "mostRecentlyExecutedCommandWithImplicitDF": {
     "commandId": 8092482964556366,
     "dataframes": [
      "_sqldf"
     ]
    },
    "pythonIndentUnit": 4
   },
   "notebookName": "copy_tpch_to_bronze",
   "widgets": {}
  },
  "language_info": {
   "name": "python"
  }
 },
 "nbformat": 4,
 "nbformat_minor": 0
}
