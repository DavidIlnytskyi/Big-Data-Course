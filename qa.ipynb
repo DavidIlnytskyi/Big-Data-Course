{
 "cells": [
  {
   "cell_type": "code",
   "execution_count": 0,
   "metadata": {
    "application/vnd.databricks.v1+cell": {
     "cellMetadata": {
      "byteLimit": 2048000,
      "implicitDf": true,
      "rowLimit": 10000
     },
     "inputWidgets": {},
     "nuid": "1b0b229b-5d55-45d8-89ce-8c9df816e75a",
     "showTitle": false,
     "tableResultSettingsMap": {},
     "title": ""
    }
   },
   "outputs": [],
   "source": [
    "%sql\n",
    "USE CATALOG catalog_cp;\n",
    "\n",
    "SELECT SUM(l.quantity) AS total_items_bought\n",
    "FROM silver.customer c\n",
    "JOIN silver.orders o ON c.custkey = o.custkey\n",
    "JOIN silver.lineitem l ON o.orderkey = l.orderkey\n",
    "WHERE c.custkey = 446044;\n"
   ]
  },
  {
   "cell_type": "code",
   "execution_count": 0,
   "metadata": {
    "application/vnd.databricks.v1+cell": {
     "cellMetadata": {
      "byteLimit": 2048000,
      "implicitDf": true,
      "rowLimit": 10000
     },
     "inputWidgets": {},
     "nuid": "e7f3c9c3-f95b-4983-9aec-b3832ed85bfc",
     "showTitle": false,
     "tableResultSettingsMap": {},
     "title": ""
    }
   },
   "outputs": [],
   "source": [
    "%sql\n",
    "SELECT MIN(o.orderdate) AS first_purchase_date\n",
    "FROM silver.orders o\n",
    "WHERE o.custkey = 564787;\n"
   ]
  },
  {
   "cell_type": "code",
   "execution_count": 0,
   "metadata": {
    "application/vnd.databricks.v1+cell": {
     "cellMetadata": {
      "byteLimit": 2048000,
      "implicitDf": true,
      "rowLimit": 10000
     },
     "inputWidgets": {},
     "nuid": "a425efe4-6000-4c64-8c19-cc73df1e82b7",
     "showTitle": false,
     "tableResultSettingsMap": {},
     "title": ""
    }
   },
   "outputs": [],
   "source": [
    "%sql\n",
    "SELECT COUNT(*) AS total_orders\n",
    "FROM silver.orders\n",
    "WHERE custkey = 85909;\n"
   ]
  },
  {
   "cell_type": "code",
   "execution_count": 0,
   "metadata": {
    "application/vnd.databricks.v1+cell": {
     "cellMetadata": {
      "byteLimit": 2048000,
      "implicitDf": true,
      "rowLimit": 10000
     },
     "inputWidgets": {},
     "nuid": "faa1cf12-1e48-4651-908d-2b6c09d6765c",
     "showTitle": false,
     "tableResultSettingsMap": {},
     "title": ""
    }
   },
   "outputs": [],
   "source": [
    "%sql\n",
    "\n",
    "WITH customer_order_counts AS (\n",
    "  SELECT o.custkey, COUNT(*) AS order_count\n",
    "  FROM silver.orders o\n",
    "  GROUP BY o.custkey\n",
    "),\n",
    "top_customer AS (\n",
    "  SELECT custkey\n",
    "  FROM customer_order_counts\n",
    "  ORDER BY order_count DESC\n",
    "  LIMIT 1\n",
    ")\n",
    "SELECT n.name AS nationality\n",
    "FROM top_customer tc\n",
    "JOIN silver.customer c ON c.custkey = tc.custkey\n",
    "JOIN silver.nation n ON c.nationkey = n.nationkey;\n"
   ]
  },
  {
   "cell_type": "code",
   "execution_count": 0,
   "metadata": {
    "application/vnd.databricks.v1+cell": {
     "cellMetadata": {},
     "inputWidgets": {},
     "nuid": "9a86c153-83a7-4ac2-842e-0e3bf76f88b7",
     "showTitle": false,
     "tableResultSettingsMap": {},
     "title": ""
    }
   },
   "outputs": [],
   "source": []
  }
 ],
 "metadata": {
  "application/vnd.databricks.v1+notebook": {
   "computePreferences": null,
   "dashboards": [],
   "environmentMetadata": {
    "base_environment": "",
    "environment_version": "3"
   },
   "inputWidgetPreferences": null,
   "language": "python",
   "notebookMetadata": {
    "mostRecentlyExecutedCommandWithImplicitDF": {
     "commandId": 4650431309456484,
     "dataframes": [
      "_sqldf"
     ]
    },
    "pythonIndentUnit": 4
   },
   "notebookName": "qa",
   "widgets": {}
  },
  "language_info": {
   "name": "python"
  }
 },
 "nbformat": 4,
 "nbformat_minor": 0
}
